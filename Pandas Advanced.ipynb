{
 "cells": [
  {
   "cell_type": "code",
   "execution_count": 1,
   "id": "a6d40a69-5079-4bf4-9f2f-dbb4aa2533e4",
   "metadata": {
    "tags": []
   },
   "outputs": [
    {
     "name": "stdout",
     "output_type": "stream",
     "text": [
      "1. head():\n",
      "   A  B\n",
      "0  1  4\n",
      "1  2  5\n",
      "2  3  6\n",
      "\n",
      "2. describe():\n",
      "         A    B\n",
      "count  3.0  3.0\n",
      "mean   2.0  5.0\n",
      "std    1.0  1.0\n",
      "min    1.0  4.0\n",
      "25%    1.5  4.5\n",
      "50%    2.0  5.0\n",
      "75%    2.5  5.5\n",
      "max    3.0  6.0\n",
      "\n",
      "3. info():\n",
      "<class 'pandas.core.frame.DataFrame'>\n",
      "RangeIndex: 3 entries, 0 to 2\n",
      "Data columns (total 2 columns):\n",
      " #   Column  Non-Null Count  Dtype\n",
      "---  ------  --------------  -----\n",
      " 0   A       3 non-null      int64\n",
      " 1   B       3 non-null      int64\n",
      "dtypes: int64(2)\n",
      "memory usage: 180.0 bytes\n",
      "None\n",
      "\n",
      "4. shape:\n",
      "(3, 2)\n",
      "\n",
      "5. mean():\n",
      "A    2.0\n",
      "B    5.0\n",
      "dtype: float64\n"
     ]
    }
   ],
   "source": [
    "#Q1\n",
    "import pandas as pd\n",
    "\n",
    "# Create a sample DataFrame\n",
    "data = {'A': [1, 2, 3], 'B': [4, 5, 6]}\n",
    "df = pd.DataFrame(data)\n",
    "\n",
    "# 1. head(): Returns the first n rows of the DataFrame\n",
    "print(\"1. head():\")\n",
    "print(df.head())\n",
    "\n",
    "# 2. describe(): Generates descriptive statistics of the DataFrame\n",
    "print(\"\\n2. describe():\")\n",
    "print(df.describe())\n",
    "\n",
    "# 3. info(): Provides a concise summary of the DataFrame\n",
    "print(\"\\n3. info():\")\n",
    "print(df.info())\n",
    "\n",
    "# 4. shape: Returns a tuple representing the dimensionality of the DataFrame\n",
    "print(\"\\n4. shape:\")\n",
    "print(df.shape)\n",
    "\n",
    "# 5. mean(): Computes the mean of each column\n",
    "print(\"\\n5. mean():\")\n",
    "print(df.mean())\n"
   ]
  },
  {
   "cell_type": "code",
   "execution_count": 2,
   "id": "26e3ed15-26ad-443e-b6ef-4f0d06141470",
   "metadata": {
    "tags": []
   },
   "outputs": [],
   "source": [
    "import pandas as pd\n",
    "\n",
    "def reindex_dataframe(df):\n",
    "    new_index = pd.Index(range(1, len(df) * 2, 2))\n",
    "    df.index = new_index\n",
    "    return df"
   ]
  },
  {
   "cell_type": "code",
   "execution_count": 3,
   "id": "c6cebd91-e34a-41cb-a2cd-daaa8332f809",
   "metadata": {
    "tags": []
   },
   "outputs": [],
   "source": [
    "#Q3\n",
    "import pandas as pd\n",
    "\n",
    "def sum_of_first_three(df):\n",
    "    values_column = df['Values']\n",
    "    sum_first_three = sum(values_column[:3])\n",
    "    print(\"Sum of the first three values:\", sum_first_three)"
   ]
  },
  {
   "cell_type": "code",
   "execution_count": 4,
   "id": "de4d417d-bd79-4cb3-b22c-76c1b0a7359a",
   "metadata": {
    "tags": []
   },
   "outputs": [],
   "source": [
    "#Q4\n",
    "import pandas as pd\n",
    "\n",
    "def add_word_count(df):\n",
    "    df['Word_Count'] = df['Text'].apply(lambda x: len(str(x).split()))\n",
    "    return df"
   ]
  },
  {
   "cell_type": "code",
   "execution_count": 8,
   "id": "6b348cec-29b4-4d9b-9bf9-041cce56b578",
   "metadata": {
    "tags": []
   },
   "outputs": [],
   "source": [
    "import pandas as pd\n",
    "\n",
    "def calculate_stats(df):\n",
    "    mean = df['Values'].mean()\n",
    "    median = df['Values'].median()\n",
    "    std_dev = df['Values'].std()\n",
    "    return mean, median, std_dev\n"
   ]
  },
  {
   "cell_type": "code",
   "execution_count": 9,
   "id": "09e8b566-6977-4475-89ed-a7fbcc4ac706",
   "metadata": {
    "tags": []
   },
   "outputs": [],
   "source": [
    "import pandas as pd\n",
    "\n",
    "def moving_average(df):\n",
    "    df['MovingAverage'] = df['Sales'].rolling(window=7, min_periods=1).mean()\n",
    "    return df"
   ]
  },
  {
   "cell_type": "code",
   "execution_count": 10,
   "id": "83900e58-594a-42c3-aa3e-c2cee431df88",
   "metadata": {
    "tags": []
   },
   "outputs": [],
   "source": [
    "import pandas as pd\n",
    "\n",
    "def add_weekday(df):\n",
    "    df['Date'] = pd.to_datetime(df['Date'])\n",
    "    df['Weekday'] = df['Date'].dt.day_name()\n",
    "    return df"
   ]
  },
  {
   "cell_type": "code",
   "execution_count": 11,
   "id": "10968598-88ef-4c48-841b-bb7bd6e18500",
   "metadata": {
    "tags": []
   },
   "outputs": [],
   "source": [
    "import pandas as pd\n",
    "\n",
    "def add_weekday(df):\n",
    "    df['Date'] = pd.to_datetime(df['Date'])\n",
    "    df['Weekday'] = df['Date'].dt.day_name()\n",
    "    return df\n"
   ]
  }
 ],
 "metadata": {
  "kernelspec": {
   "display_name": "Python 3 (ipykernel)",
   "language": "python",
   "name": "python3"
  },
  "language_info": {
   "codemirror_mode": {
    "name": "ipython",
    "version": 3
   },
   "file_extension": ".py",
   "mimetype": "text/x-python",
   "name": "python",
   "nbconvert_exporter": "python",
   "pygments_lexer": "ipython3",
   "version": "3.11.5"
  }
 },
 "nbformat": 4,
 "nbformat_minor": 5
}
